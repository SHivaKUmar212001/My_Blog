{
  "nbformat": 4,
  "nbformat_minor": 0,
  "metadata": {
    "colab": {
      "name": "Exp2.ipynb",
      "provenance": [],
      "authorship_tag": "ABX9TyNAfYmnPqUff0WWdWwc5+oN",
      "include_colab_link": true
    },
    "kernelspec": {
      "name": "python3",
      "display_name": "Python 3"
    },
    "language_info": {
      "name": "python"
    }
  },
  "cells": [
    {
      "cell_type": "markdown",
      "metadata": {
        "id": "view-in-github",
        "colab_type": "text"
      },
      "source": [
        "<a href=\"https://colab.research.google.com/github/SHivaKUmar212001/My_Blog/blob/main/Exp2.ipynb\" target=\"_parent\"><img src=\"https://colab.research.google.com/assets/colab-badge.svg\" alt=\"Open In Colab\"/></a>"
      ]
    },
    {
      "cell_type": "code",
      "execution_count": null,
      "metadata": {
        "colab": {
          "base_uri": "https://localhost:8080/"
        },
        "id": "XnFF_Z9xjP-X",
        "outputId": "0c271b78-5e88-43aa-be6c-169d0a93d948"
      },
      "outputs": [
        {
          "output_type": "stream",
          "name": "stdout",
          "text": [
            "Diamond\n",
            "    *\n",
            "   ***\n",
            "  *****\n",
            " *******\n",
            "*********\n",
            "*********\n",
            " *******\n",
            "  *****\n",
            "   ***\n",
            "    *\n",
            "     \n"
          ]
        }
      ],
      "source": [
        "n=9\n",
        "print(\"Diamond\")\n",
        "for a in range(1,(n+1)//2+1):\n",
        "  for b in range((n+1)//2-a):\n",
        "    print(\" \",end=\"\")\n",
        "  for c in range((a*2)-1):\n",
        "    print(\"*\",end=\"\")\n",
        "  print()\n",
        "\n",
        "for a in range((n)//2,n+1):\n",
        "  for b in range(a-((n)//2)):\n",
        "    print(\" \",end=\"\")\n",
        "  for c in range((n-a)*2 - 1):\n",
        "    print(\"*\",end=\"\")\n",
        "  print()\n"
      ]
    },
    {
      "cell_type": "code",
      "source": [
        "for a in range(9):\n",
        "  for b in range(9):\n",
        "    if a+b==6 or a-b==6 or b-a==6 or b+a==10:\n",
        "      print(\"*\",end=\"\")\n",
        "    else:\n",
        "      print(end=\" \")\n",
        "  print()"
      ],
      "metadata": {
        "colab": {
          "base_uri": "https://localhost:8080/"
        },
        "id": "0oLYyeKXoOel",
        "outputId": "956e09b7-6db6-4b3c-95cf-938ba8243db7"
      },
      "execution_count": null,
      "outputs": [
        {
          "output_type": "stream",
          "name": "stdout",
          "text": [
            "      *  \n",
            "     * * \n",
            "    *   *\n",
            "   *   * \n",
            "  *   *  \n",
            " *   *   \n",
            "*   *    \n",
            " * *     \n",
            "  *      \n"
          ]
        }
      ]
    },
    {
      "cell_type": "code",
      "source": [
        "for a in range(8):\n",
        "  for b in range(5):\n",
        "    if a==0 or a==7 or b==0 or b==4:\n",
        "      print(\"0\",end=\" \")\n",
        "    else:\n",
        "      print(\" \",end=\" \")\n",
        "  print()\n"
      ],
      "metadata": {
        "colab": {
          "base_uri": "https://localhost:8080/"
        },
        "id": "xmoU5Ew2pQLW",
        "outputId": "c2b058a4-be6f-423c-d2d3-d2cd014da469"
      },
      "execution_count": null,
      "outputs": [
        {
          "output_type": "stream",
          "name": "stdout",
          "text": [
            "0 0 0 0 0 \n",
            "0       0 \n",
            "0       0 \n",
            "0       0 \n",
            "0       0 \n",
            "0       0 \n",
            "0       0 \n",
            "0 0 0 0 0 \n"
          ]
        }
      ]
    },
    {
      "cell_type": "code",
      "source": [
        "for a in range(9):\n",
        "  for b in range(5):\n",
        "    if a==0 or a==8 or a==4 or b==0 or b==4:\n",
        "      print(\"8\",end=\" \")\n",
        "    else:\n",
        "      print(\" \",end=\" \")\n",
        "  print()"
      ],
      "metadata": {
        "colab": {
          "base_uri": "https://localhost:8080/"
        },
        "id": "6UFG_KP5tLLU",
        "outputId": "3f1d62d4-fa38-4e3a-f172-f57611ab9852"
      },
      "execution_count": null,
      "outputs": [
        {
          "output_type": "stream",
          "name": "stdout",
          "text": [
            "8 8 8 8 8 \n",
            "8       8 \n",
            "8       8 \n",
            "8       8 \n",
            "8 8 8 8 8 \n",
            "8       8 \n",
            "8       8 \n",
            "8       8 \n",
            "8 8 8 8 8 \n"
          ]
        }
      ]
    },
    {
      "cell_type": "code",
      "source": [
        "for a in range(4):\n",
        "  for b in range(5):\n",
        "    if a==0 or a==3 or b==0 or b==4:\n",
        "      print(\"9\",end=\" \")\n",
        "    else:\n",
        "      print(\" \",end=\" \")\n",
        "  print()\n",
        "\n",
        "for a in range(4):\n",
        "  for b in range(5):\n",
        "    if a==3 or b==4:\n",
        "      print(\"9\",end=\" \")\n",
        "    else:\n",
        "      print(\" \",end=\" \")\n",
        "  print()"
      ],
      "metadata": {
        "colab": {
          "base_uri": "https://localhost:8080/"
        },
        "id": "kD-9O6vBvM0V",
        "outputId": "a2207fe1-7621-42e9-bdbe-be6a03d6be5a"
      },
      "execution_count": null,
      "outputs": [
        {
          "output_type": "stream",
          "name": "stdout",
          "text": [
            "9 9 9 9 9 \n",
            "9       9 \n",
            "9       9 \n",
            "9 9 9 9 9 \n",
            "        9 \n",
            "        9 \n",
            "        9 \n",
            "9 9 9 9 9 \n"
          ]
        }
      ]
    },
    {
      "cell_type": "code",
      "source": [
        "for a in range(4):\n",
        "  for b in range(5):\n",
        "    if a==0 or b==0:\n",
        "      print(\"6\",end=\" \")\n",
        "    else:\n",
        "      print(\" \",end=\" \")\n",
        "  print()\n",
        "\n",
        "for a in range(4):\n",
        "  for b in range(5):\n",
        "    if a==0 or a==3 or b==0 or b==4:\n",
        "      print(\"6\",end=\" \")\n",
        "    else:\n",
        "      print(\" \",end=\" \")\n",
        "  print()\n",
        "\n"
      ],
      "metadata": {
        "colab": {
          "base_uri": "https://localhost:8080/"
        },
        "id": "IjBWsd1jwXrs",
        "outputId": "cb165a65-ac6e-4df4-f211-abdffbc06c48"
      },
      "execution_count": null,
      "outputs": [
        {
          "output_type": "stream",
          "name": "stdout",
          "text": [
            "6 6 6 6 6 \n",
            "6         \n",
            "6         \n",
            "6         \n",
            "6 6 6 6 6 \n",
            "6       6 \n",
            "6       6 \n",
            "6 6 6 6 6 \n"
          ]
        }
      ]
    },
    {
      "cell_type": "code",
      "source": [
        "for a in range(8):\n",
        "  for b in range(5):\n",
        "    if a==0 or b==4:\n",
        "      print(\"7\",end=\" \")\n",
        "    else:\n",
        "      print(\" \",end=\" \")\n",
        "  print()\n"
      ],
      "metadata": {
        "colab": {
          "base_uri": "https://localhost:8080/"
        },
        "id": "rEu_3T3Uwrg9",
        "outputId": "c440b011-e994-4cb5-99bf-11e344c7ef19"
      },
      "execution_count": null,
      "outputs": [
        {
          "output_type": "stream",
          "name": "stdout",
          "text": [
            "7 7 7 7 7 \n",
            "        7 \n",
            "        7 \n",
            "        7 \n",
            "        7 \n",
            "        7 \n",
            "        7 \n",
            "        7 \n"
          ]
        }
      ]
    },
    {
      "cell_type": "code",
      "source": [
        "for a in range(5):\n",
        "  for b in range(5):\n",
        "    if a==0 or a==4 or b==0:\n",
        "      print(\"5\",end=\" \")\n",
        "    else:\n",
        "      print(\" \",end=\" \")\n",
        "  print()\n",
        "for a in range(4):\n",
        "  for b in range(5):\n",
        "    if a==3 or b==4:\n",
        "      print(\"5\",end=\" \")\n",
        "    else:\n",
        "      print(\" \",end=\" \")\n",
        "  print()"
      ],
      "metadata": {
        "colab": {
          "base_uri": "https://localhost:8080/"
        },
        "id": "ghTvteyvw5cr",
        "outputId": "94608415-3704-4919-f595-49cdcbd07cd3"
      },
      "execution_count": null,
      "outputs": [
        {
          "output_type": "stream",
          "name": "stdout",
          "text": [
            "5 5 5 5 5 \n",
            "5         \n",
            "5         \n",
            "5         \n",
            "5 5 5 5 5 \n",
            "        5 \n",
            "        5 \n",
            "        5 \n",
            "5 5 5 5 5 \n"
          ]
        }
      ]
    },
    {
      "cell_type": "code",
      "source": [
        "for a in range(5):\n",
        "  for b in range(5):\n",
        "    if a==4 or b==0 or b==4:\n",
        "      print(\"4\",end=\" \")\n",
        "    else:\n",
        "      print(\" \",end=\" \")\n",
        "  print()\n",
        "for a in range(4):\n",
        "  for b in range(5):\n",
        "    if b==4:\n",
        "      print(\"4\",end=\" \")\n",
        "    else:\n",
        "      print(\" \",end=\" \")\n",
        "  print()"
      ],
      "metadata": {
        "colab": {
          "base_uri": "https://localhost:8080/"
        },
        "id": "MPhFXX5NxP1j",
        "outputId": "db2548cd-5037-44b8-c77d-50d8fb9698cc"
      },
      "execution_count": null,
      "outputs": [
        {
          "output_type": "stream",
          "name": "stdout",
          "text": [
            "4       4 \n",
            "4       4 \n",
            "4       4 \n",
            "4       4 \n",
            "4 4 4 4 4 \n",
            "        4 \n",
            "        4 \n",
            "        4 \n",
            "        4 \n"
          ]
        }
      ]
    },
    {
      "cell_type": "code",
      "source": [
        "for a in range(9):\n",
        "  for b in range(5):\n",
        "    if a==0 or a==8 or a==4 or b==4:\n",
        "      print(\"3\",end=\" \")\n",
        "    else:\n",
        "      print(\" \",end=\" \")\n",
        "  print()"
      ],
      "metadata": {
        "colab": {
          "base_uri": "https://localhost:8080/"
        },
        "id": "g84O3XacxcNy",
        "outputId": "965ddf61-e92b-4e13-c0e4-78d531c3a2f9"
      },
      "execution_count": null,
      "outputs": [
        {
          "output_type": "stream",
          "name": "stdout",
          "text": [
            "3 3 3 3 3 \n",
            "        3 \n",
            "        3 \n",
            "        3 \n",
            "3 3 3 3 3 \n",
            "        3 \n",
            "        3 \n",
            "        3 \n",
            "3 3 3 3 3 \n"
          ]
        }
      ]
    },
    {
      "cell_type": "code",
      "source": [
        "for a in range(5):\n",
        "  for b in range(5):\n",
        "    if a==0 or a==4 or b==4:\n",
        "      print(\"2\",end=\" \")\n",
        "    else:\n",
        "      print(\" \",end=\" \")\n",
        "  print()\n",
        "for a in range(4):\n",
        "  for b in range(5):\n",
        "    if a==3 or b==0:\n",
        "      print(\"2\",end=\" \")\n",
        "    else:\n",
        "      print(\" \",end=\" \")\n",
        "  print()\n"
      ],
      "metadata": {
        "colab": {
          "base_uri": "https://localhost:8080/"
        },
        "id": "Gx8MF6-ayGQs",
        "outputId": "041c2cc7-591e-472d-dd6e-588e663da29b"
      },
      "execution_count": null,
      "outputs": [
        {
          "output_type": "stream",
          "name": "stdout",
          "text": [
            "2 2 2 2 2 \n",
            "        2 \n",
            "        2 \n",
            "        2 \n",
            "2 2 2 2 2 \n",
            "2         \n",
            "2         \n",
            "2         \n",
            "2 2 2 2 2 \n"
          ]
        }
      ]
    },
    {
      "cell_type": "code",
      "source": [
        "for a in range(5):\n",
        "  for b in range(5):\n",
        "    if a==0 or a==4 or b==0:\n",
        "      print(\"5\",end=\" \")\n",
        "    else:\n",
        "      print(\" \",end=\" \")\n",
        "  print()\n",
        "for a in range(4):\n",
        "  for b in range(5):\n",
        "    if a==3 or b==4:\n",
        "      print(\"5\",end=\" \")\n",
        "    else:\n",
        "      print(\" \",end=\" \")\n",
        "  print()\n",
        "\n",
        "print(\"       \")\n",
        "print(\"       \")\n",
        "for a in range(9):\n",
        "  for b in range(5):\n",
        "    if a==4 or b==0 or b==4:\n",
        "      print(\"8\",end=\" \")\n",
        "    else:\n",
        "      print(\" \",end=\" \")\n",
        "  print()\n",
        "print(\"       \")\n",
        "print(\"       \")\n",
        "for a in range(9):\n",
        "  for b in range(5):\n",
        "    if a==8 or a==0 or b==2:\n",
        "      print(\"8\",end=\" \")\n",
        "    else:\n",
        "      print(\" \",end=\" \")\n",
        "  print()\n",
        "print(\"       \")\n",
        "print(\"       \")\n",
        "for a in range(9):\n",
        "  for b in range(5):\n",
        "    if a==0 or a==8 or a==4 or b==0 or b==4:\n",
        "      print(\"8\",end=\" \")\n",
        "    else:\n",
        "      print(\" \",end=\" \")\n",
        "  print()\n",
        "print(\"       \")\n",
        "print(\"       \")\n",
        "for a in range(9):\n",
        "  for b in range(5):\n",
        "    if a==0 or a==4 or b==0 or b==4:\n",
        "      print(\"8\",end=\" \")\n",
        "    else:\n",
        "      print(\" \",end=\" \")\n",
        "  print()"
      ],
      "metadata": {
        "colab": {
          "base_uri": "https://localhost:8080/"
        },
        "id": "rCccUFJnyjNK",
        "outputId": "1c2fc53d-ca8c-49fe-e061-ba89c0cdd5dd"
      },
      "execution_count": null,
      "outputs": [
        {
          "output_type": "stream",
          "name": "stdout",
          "text": [
            "5 5 5 5 5 \n",
            "5         \n",
            "5         \n",
            "5         \n",
            "5 5 5 5 5 \n",
            "        5 \n",
            "        5 \n",
            "        5 \n",
            "5 5 5 5 5 \n",
            "       \n",
            "       \n",
            "8       8 \n",
            "8       8 \n",
            "8       8 \n",
            "8       8 \n",
            "8 8 8 8 8 \n",
            "8       8 \n",
            "8       8 \n",
            "8       8 \n",
            "8       8 \n",
            "       \n",
            "       \n",
            "8 8 8 8 8 \n",
            "    8     \n",
            "    8     \n",
            "    8     \n",
            "    8     \n",
            "    8     \n",
            "    8     \n",
            "    8     \n",
            "8 8 8 8 8 \n",
            "       \n",
            "       \n",
            "8 8 8 8 8 \n",
            "8       8 \n",
            "8       8 \n",
            "8       8 \n",
            "8 8 8 8 8 \n",
            "8       8 \n",
            "8       8 \n",
            "8       8 \n",
            "8 8 8 8 8 \n",
            "       \n",
            "       \n",
            "8 8 8 8 8 \n",
            "8       8 \n",
            "8       8 \n",
            "8       8 \n",
            "8 8 8 8 8 \n",
            "8       8 \n",
            "8       8 \n",
            "8       8 \n",
            "8       8 \n"
          ]
        }
      ]
    }
  ]
}